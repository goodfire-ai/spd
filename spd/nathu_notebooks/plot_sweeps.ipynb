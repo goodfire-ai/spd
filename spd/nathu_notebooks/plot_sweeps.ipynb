{
 "cells": [
  {
   "cell_type": "markdown",
   "metadata": {},
   "source": [
    "# WandB Sweep Analysis"
   ]
  },
  {
   "cell_type": "code",
   "execution_count": null,
   "metadata": {},
   "outputs": [],
   "source": [
    "import pandas as pd\n",
    "import wandb"
   ]
  },
  {
   "cell_type": "code",
   "execution_count": null,
   "metadata": {},
   "outputs": [],
   "source": [
    "def get_runs_by_tag(project: str, tag: str, entity: str | None = None) -> pd.DataFrame:\n",
    "    \"\"\"Get ALL runs with a tag, regardless of state.\"\"\"\n",
    "    api = wandb.Api()\n",
    "    path = f\"{entity}/{project}\" if entity else project\n",
    "\n",
    "    # Get ALL runs with this tag\n",
    "    filters = {\"tags\": {\"$in\": [tag]}}\n",
    "    runs = api.runs(path, filters=filters)\n",
    "\n",
    "    data = []\n",
    "    for run in runs:\n",
    "        row = {\n",
    "            \"run_id\": run.id,\n",
    "            \"run_name\": run.name,\n",
    "            \"state\": run.state,\n",
    "            \"tags\": run.tags,\n",
    "            \"url\": run.url,\n",
    "        }\n",
    "\n",
    "        # Add all config parameters\n",
    "        for key, value in run.config.items():\n",
    "            row[f\"config.{key}\"] = value\n",
    "\n",
    "        # Add all summary metrics\n",
    "        for key, value in run.summary.items():\n",
    "            if not key.startswith(\"_\"):\n",
    "                row[f\"summary.{key}\"] = value\n",
    "\n",
    "        data.append(row)\n",
    "\n",
    "    df = pd.DataFrame(data)\n",
    "\n",
    "    if len(df) == 0:\n",
    "        print(f\"No runs found with tag '{tag}'\")\n",
    "    else:\n",
    "        print(f\"Found {len(df)} runs with tag '{tag}'\")\n",
    "        print(f\"States: {df['state'].value_counts().to_dict()}\")\n",
    "\n",
    "    return df"
   ]
  },
  {
   "cell_type": "code",
   "execution_count": null,
   "metadata": {},
   "outputs": [],
   "source": [
    "# Get your runs\n",
    "df = get_runs_by_tag(\n",
    "    project=\"spd\",\n",
    "    tag=\"ss_llama_subset_bal_sans\",  # Your tag\n",
    "    entity=\"goodfire\",\n",
    ")"
   ]
  },
  {
   "cell_type": "code",
   "execution_count": null,
   "metadata": {},
   "outputs": [],
   "source": [
    "# Show the data\n",
    "if len(df) > 0:\n",
    "    display(df[[\"run_id\", \"run_name\", \"state\"]].head(10))"
   ]
  },
  {
   "cell_type": "code",
   "execution_count": null,
   "metadata": {},
   "outputs": [],
   "source": [
    "# Get summary statistics for numeric metrics\n",
    "if len(df) > 0:\n",
    "    numeric_cols = [\n",
    "        col\n",
    "        for col in df.columns\n",
    "        if col.startswith(\"summary.\") and pd.api.types.is_numeric_dtype(df[col])\n",
    "    ]\n",
    "    if numeric_cols:\n",
    "        summary_stats = df[numeric_cols].describe().T\n",
    "        display(summary_stats)"
   ]
  }
 ],
 "metadata": {
  "kernelspec": {
   "display_name": "Python 3",
   "language": "python",
   "name": "python3"
  },
  "language_info": {
   "codemirror_mode": {
    "name": "ipython",
    "version": 3
   },
   "file_extension": ".py",
   "mimetype": "text/x-python",
   "name": "python",
   "nbconvert_exporter": "python",
   "pygments_lexer": "ipython3",
   "version": "3.11.0"
  }
 },
 "nbformat": 4,
 "nbformat_minor": 4
}